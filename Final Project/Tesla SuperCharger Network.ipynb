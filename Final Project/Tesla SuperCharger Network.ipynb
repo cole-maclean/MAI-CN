{
 "cells": [
  {
   "cell_type": "code",
   "execution_count": 267,
   "metadata": {
    "collapsed": false
   },
   "outputs": [],
   "source": [
    "import sys\n",
    "sys.setrecursionlimit(10000) # 10000 is an example, try with different values\n",
    "import geohash\n",
    "import pandas as pd\n",
    "import configparser\n",
    "import googlemaps\n",
    "import time\n",
    "import json\n",
    "import os\n",
    "import networkx as nx\n",
    "from networkx.readwrite import json_graph\n",
    "from bs4 import BeautifulSoup\n",
    "import requests\n",
    "import csv"
   ]
  },
  {
   "cell_type": "code",
   "execution_count": 4,
   "metadata": {
    "collapsed": false
   },
   "outputs": [],
   "source": [
    "BASE_32 = \"0123456789bcdefghjkmnpqrstuvwxyz\"\n",
    "\n",
    "NEIGHBORS = {'right':{'even': \"bc01fg45238967deuvhjyznpkmstqrwx\",'odd':\"238967debc01fg45kmstqrwxuvhjyznp\"},\n",
    "             'left':{'even':\"238967debc01fg45kmstqrwxuvhjyznp\",'odd':\"14365h7k9dcfesgujnmqp0r2twvyx8zb\"},\n",
    "             'top':{'even':\"p0r21436x8zb9dcf5h7kjnmqesgutwvy\",'odd':\"bc01fg45238967deuvhjyznpkmstqrwx\"},\n",
    "             'bottom':{'even':\"14365h7k9dcfesgujnmqp0r2twvyx8zb\",'odd':\"238967debc01fg45kmstqrwxuvhjyznp\"}\n",
    "            }\n",
    "             \n",
    "BORDERS = {'right':{'even':\"bcfguvyz\",'odd':\"prxz\"},\n",
    "           'left':{'even':\"0145hjnp\",'odd':\"028b\"},\n",
    "           'top':{'even':\"prxz\",'odd':\"bcfguvyz\"},\n",
    "           'bottom':{'even':\"028b\",'odd':\"0145hjnp\"}\n",
    "          }\n",
    "\n",
    "def calc_adj_geohash(src_hash, search_direction):\n",
    "    L_src_hash = src_hash.lower()\n",
    "    last_char = L_src_hash[-1]\n",
    "    hash_type = odd_even(L_src_hash)\n",
    "    base = L_src_hash[0:len(L_src_hash)-1]\n",
    "    if  last_char in BORDERS[search_direction][hash_type]:\n",
    "        base = calc_adj_geohash(base, search_direction)\n",
    "    return base + BASE_32[NEIGHBORS[search_direction][hash_type].index(last_char)]"
   ]
  },
  {
   "cell_type": "code",
   "execution_count": 5,
   "metadata": {
    "collapsed": true
   },
   "outputs": [],
   "source": [
    "def get_adj_geohashes(src_hash):\n",
    "    directions = ['right','left','top','bottom']\n",
    "    adj_hash_dict = {direction:calc_adj_geohash(src_hash,direction) for direction in directions}\n",
    "    adj_hash_dict['top_right'] = calc_adj_geohash(adj_hash_dict['right'],'top')\n",
    "    adj_hash_dict['bottom_right'] = calc_adj_geohash(adj_hash_dict['right'],'bottom')\n",
    "    adj_hash_dict['top_left'] = calc_adj_geohash(adj_hash_dict['left'],'top')\n",
    "    adj_hash_dict['bottom_left'] = calc_adj_geohash(adj_hash_dict['left'],'bottom')\n",
    "    adj_hash_dict['middle'] = src_hash\n",
    "    return adj_hash_dict    "
   ]
  },
  {
   "cell_type": "code",
   "execution_count": 6,
   "metadata": {
    "collapsed": true
   },
   "outputs": [],
   "source": [
    "def odd_even(str_hash):\n",
    "    if len(str_hash)%2 == 0:\n",
    "        return 'even'\n",
    "    else:\n",
    "        return 'odd'"
   ]
  },
  {
   "cell_type": "code",
   "execution_count": 7,
   "metadata": {
    "collapsed": true
   },
   "outputs": [],
   "source": [
    "config = configparser.ConfigParser()\n",
    "config.read(\"config.ini\")\n",
    "API_key = config['Keys']['google_API']\n",
    "gmaps = googlemaps.Client(key=API_key)\n",
    "\n",
    "def get_geohash_distance(gh_A,gh_B):   \n",
    "    GPS_A = geohash.decode(gh_A)\n",
    "    GPS_B = geohash.decode(gh_B) \n",
    "    directions_result = gmaps.directions(GPS_A,\n",
    "                                         GPS_B,\n",
    "                                         mode=\"driving\")\n",
    "    time.sleep(1)\n",
    "    return directions_result[0]['legs'][0]['distance']['value'] "
   ]
  },
  {
   "cell_type": "code",
   "execution_count": 274,
   "metadata": {
    "collapsed": false
   },
   "outputs": [],
   "source": [
    "GEOHASH_PRECISION = 3\n",
    "MAX_RANGE = 426 #Maximum Tesla Model S range in Km from https://en.wikipedia.org/wiki/Tesla_Model_S\n",
    "POP_DICT = load_pop_dict()\n",
    "def build_connections(G,src_hash):\n",
    "    print (nx.number_of_nodes(G))\n",
    "    connections = {}\n",
    "    node_hashes = ([node for node in G\n",
    "                  if node[0:GEOHASH_PRECISION] in list(get_adj_geohashes(src_hash[0:GEOHASH_PRECISION]).values())\n",
    "                  and node != src_hash])\n",
    "    close_connections = ([{'node':node_gh,\n",
    "                           'distance':get_geohash_distance(src_hash,node_gh)} for node_gh in node_hashes])\n",
    "    for connection in close_connections:\n",
    "        if connection['distance']/1000 <= MAX_RANGE:\n",
    "            edge_weight = get_edge_weight(G,src_hash,connection['node'])\n",
    "            G.add_edge(src_hash,connection['node'],{'weight':edge_weight,'distance':connection['distance'],\n",
    "                                                    'lon_lat_1':reverse_GPS(geohash.decode(src_hash)),\n",
    "                                                    'lon_lat_2':reverse_GPS(geohash.decode(connection['node']))})\n",
    "    return G"
   ]
  },
  {
   "cell_type": "code",
   "execution_count": 273,
   "metadata": {
    "collapsed": false
   },
   "outputs": [],
   "source": [
    "def get_edge_weight(G,src_hash,connection_node):\n",
    "    try:\n",
    "        pop1 = POP_DICT[G.node[src_hash]['city_state']]\n",
    "        pop2 = POP_DICT[G.node[connection_node]['city_state']]\n",
    "        return (pop1+pop2)/POP_DICT['Total']\n",
    "    except KeyError as e:\n",
    "        print(e)\n",
    "        return 0    "
   ]
  },
  {
   "cell_type": "code",
   "execution_count": 9,
   "metadata": {
    "collapsed": true
   },
   "outputs": [],
   "source": [
    "def reverse_GPS(GPS):\n",
    "    return [GPS[1],GPS[0]]"
   ]
  },
  {
   "cell_type": "code",
   "execution_count": 276,
   "metadata": {
    "collapsed": false
   },
   "outputs": [],
   "source": [
    "def build_network():\n",
    "    G = load_network()\n",
    "    df = pd.read_csv(\"Teslarati_SC_data.csv\",dtype={'Stalls': float,'Zip':str,'Tesla':str,'Elev':str})\n",
    "    df[\"lat\"], df[\"lon\"] = zip(*df[\"GPS\"].str.split(',').tolist())\n",
    "    df[\"lat\"], df[\"lon\"] = df[\"lat\"].astype(float), df[\"lon\"].astype(float)\n",
    "    df['GPS_lon_lat'] = df.apply(lambda x: [x[\"lon\"],x[\"lat\"]], axis=1)\n",
    "    df['geohash'] = df.apply(lambda x: geohash.encode(x['lat'],x['lon']), axis=1)\n",
    "    df['SC_data'] = df.apply(lambda x: parse_Tesla_SC_data(x['Tesla']), axis=1)\n",
    "    \n",
    "    for i in df['geohash'].keys():\n",
    "        if df['geohash'][i] not in G:\n",
    "            G.add_node(df['geohash'][i],{key:df[key][i] for key in df.keys()})\n",
    "            build_connections(G,df['geohash'][i])\n",
    "    \n",
    "    full_network = json_graph.node_link_data(G)\n",
    "    slim_network = json_graph.node_link_data(trim_network(G))\n",
    "    with open(\"full_network.json\",\"w\") as f:\n",
    "        json.dump(full_network,f)\n",
    "    with open(\"slim_network.json\",\"w\") as f:\n",
    "        json.dump(slim_network,f)\n",
    "    return G"
   ]
  },
  {
   "cell_type": "code",
   "execution_count": 185,
   "metadata": {
    "collapsed": false
   },
   "outputs": [],
   "source": [
    "def load_network():\n",
    "    if os.path.getsize(\"full_network.json\") > 0:\n",
    "        with open(\"full_network.json\",\"r\") as f:\n",
    "            data = json.load(f)\n",
    "            G = json_graph.node_link_graph(data)\n",
    "    else:\n",
    "        G=nx.Graph()\n",
    "    return G"
   ]
  },
  {
   "cell_type": "code",
   "execution_count": 252,
   "metadata": {
    "collapsed": true
   },
   "outputs": [],
   "source": [
    "def load_pop_dict():\n",
    "    p_dict = {}\n",
    "    with open('populations.csv', 'r') as f:\n",
    "        data = csv.DictReader(f)\n",
    "        for row in data:\n",
    "            p_dict[row['City_State']] = int(row['Population'])\n",
    "    return p_dict"
   ]
  },
  {
   "cell_type": "code",
   "execution_count": null,
   "metadata": {
    "collapsed": false
   },
   "outputs": [],
   "source": [
    "test_G = build_network()"
   ]
  },
  {
   "cell_type": "code",
   "execution_count": 183,
   "metadata": {
    "collapsed": false
   },
   "outputs": [],
   "source": [
    "def parse_Tesla_SC_data(URL):\n",
    "    SC_data = {}\n",
    "    r = requests.get(URL)\n",
    "    soup = BeautifulSoup(r.text,\"html.parser\")\n",
    "    attr_lists = soup.find_all('p')\n",
    "    for attr in attr_lists:\n",
    "        if attr.find('strong'):\n",
    "            #probably not ideal, but only way I could get BS to parse 'br' correctly. Better way must exist.\n",
    "            SC_data[attr.find('strong').text] = [value for value in attr.childGenerator()\n",
    "                                                 if value.name == None and value != ' ']\n",
    "    time.sleep(1)\n",
    "    return SC_data"
   ]
  },
  {
   "cell_type": "code",
   "execution_count": 271,
   "metadata": {
    "collapsed": false
   },
   "outputs": [],
   "source": [
    "def trim_network(G):\n",
    "    slim_G = G.copy()\n",
    "    for node in slim_G:\n",
    "        del (slim_G.node[node]['SC_data'])\n",
    "    return slim_G"
   ]
  },
  {
   "cell_type": "code",
   "execution_count": 145,
   "metadata": {
    "collapsed": false
   },
   "outputs": [
    {
     "data": {
      "text/plain": [
       "{'Amenities': ['Tanger Outlet mall, take the foot path around the AM/PM'],\n",
       " 'Charging': ['8 Supercharger stalls, available 24/7'],\n",
       " 'Public Charging': ['Pay NEMA 14-50 Outlet',\n",
       "  'Barstow Calico KOA',\n",
       "  '35250 Outer Highway 15 North',\n",
       "  'Yermo, CA 92398'],\n",
       " 'Restrooms': [\"Chili's\", 'Country Inn (open 24hrs)'],\n",
       " 'Wifi': ['Country Inn',\n",
       "  'Starbucks (Starbucks is located behind Country Inn, not visible from the charging stalls)']}"
      ]
     },
     "execution_count": 145,
     "metadata": {},
     "output_type": "execute_result"
    }
   ],
   "source": [
    "parse_Tesla_SC_data('http://www.teslamotors.com/findus/location/supercharger/barstowsupercharger')"
   ]
  },
  {
   "cell_type": "code",
   "execution_count": null,
   "metadata": {
    "collapsed": true
   },
   "outputs": [],
   "source": []
  }
 ],
 "metadata": {
  "kernelspec": {
   "display_name": "Python 3",
   "language": "python",
   "name": "python3"
  },
  "language_info": {
   "codemirror_mode": {
    "name": "ipython",
    "version": 3
   },
   "file_extension": ".py",
   "mimetype": "text/x-python",
   "name": "python",
   "nbconvert_exporter": "python",
   "pygments_lexer": "ipython3",
   "version": "3.5.0"
  }
 },
 "nbformat": 4,
 "nbformat_minor": 0
}
