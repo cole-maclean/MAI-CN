{
 "cells": [
  {
   "cell_type": "code",
   "execution_count": 33,
   "metadata": {
    "collapsed": true
   },
   "outputs": [],
   "source": [
    "import geohash\n",
    "import pandas as pd\n",
    "import configparser\n",
    "import googlemaps\n",
    "import time\n",
    "import json\n",
    "import os\n",
    "import networkx as nx\n",
    "from networkx.readwrite import json_graph"
   ]
  },
  {
   "cell_type": "code",
   "execution_count": 9,
   "metadata": {
    "collapsed": false
   },
   "outputs": [],
   "source": [
    "BASE_32 = \"0123456789bcdefghjkmnpqrstuvwxyz\"\n",
    "\n",
    "NEIGHBORS = {'right':{'even': \"bc01fg45238967deuvhjyznpkmstqrwx\",'odd':\"238967debc01fg45kmstqrwxuvhjyznp\"},\n",
    "             'left':{'even':\"238967debc01fg45kmstqrwxuvhjyznp\",'odd':\"14365h7k9dcfesgujnmqp0r2twvyx8zb\"},\n",
    "             'top':{'even':\"p0r21436x8zb9dcf5h7kjnmqesgutwvy\",'odd':\"bc01fg45238967deuvhjyznpkmstqrwx\"},\n",
    "             'bottom':{'even':\"14365h7k9dcfesgujnmqp0r2twvyx8zb\",'odd':\"238967debc01fg45kmstqrwxuvhjyznp\"}\n",
    "            }\n",
    "             \n",
    "BORDERS = {'right':{'even':\"bcfguvyz\",'odd':\"prxz\"},\n",
    "           'left':{'even':\"0145hjnp\",'odd':\"028b\"},\n",
    "           'top':{'even':\"prxz\",'odd':\"bcfguvyz\"},\n",
    "           'bottom':{'even':\"028b\",'odd':\"0145hjnp\"}\n",
    "          }\n",
    "\n",
    "def calc_adj_geohash(src_hash, search_direction):\n",
    "    L_src_hash = src_hash.lower()\n",
    "    last_char = L_src_hash[-1]\n",
    "    hash_type = odd_even(L_src_hash)\n",
    "    base = L_src_hash[0:len(L_src_hash)-1]\n",
    "    if  last_char in BORDERS[search_direction][hash_type]:\n",
    "        base = calc_adj_geohash(base, search_direction)\n",
    "    return base + BASE_32[NEIGHBORS[search_direction][hash_type].index(last_char)]"
   ]
  },
  {
   "cell_type": "code",
   "execution_count": 10,
   "metadata": {
    "collapsed": true
   },
   "outputs": [],
   "source": [
    "def get_adj_geohashes(src_hash):\n",
    "    directions = ['right','left','top','bottom']\n",
    "    adj_hash_dict = {direction:calc_adj_geohash(src_hash,direction) for direction in directions}\n",
    "    adj_hash_dict['top_right'] = calc_adj_geohash(adj_hash_dict['right'],'top')\n",
    "    adj_hash_dict['bottom_right'] = calc_adj_geohash(adj_hash_dict['right'],'bottom')\n",
    "    adj_hash_dict['top_left'] = calc_adj_geohash(adj_hash_dict['left'],'top')\n",
    "    adj_hash_dict['bottom_left'] = calc_adj_geohash(adj_hash_dict['left'],'bottom')\n",
    "    adj_hash_dict['middle'] = src_hash\n",
    "    return adj_hash_dict    "
   ]
  },
  {
   "cell_type": "code",
   "execution_count": 11,
   "metadata": {
    "collapsed": true
   },
   "outputs": [],
   "source": [
    "def odd_even(str_hash):\n",
    "    if len(str_hash)%2 == 0:\n",
    "        return 'even'\n",
    "    else:\n",
    "        return 'odd'"
   ]
  },
  {
   "cell_type": "code",
   "execution_count": 12,
   "metadata": {
    "collapsed": true
   },
   "outputs": [],
   "source": [
    "config = configparser.ConfigParser()\n",
    "config.read(\"config.ini\")\n",
    "API_key = config['Keys']['google_API']\n",
    "gmaps = googlemaps.Client(key=API_key)\n",
    "\n",
    "def get_geohash_distance(gh_A,gh_B):   \n",
    "    GPS_A = geohash.decode(gh_A)\n",
    "    GPS_B = geohash.decode(gh_B) \n",
    "    directions_result = gmaps.directions(GPS_A,\n",
    "                                         GPS_B,\n",
    "                                         mode=\"driving\")\n",
    "    time.sleep(1)\n",
    "    return directions_result[0]['legs'][0]['distance']['value'] "
   ]
  },
  {
   "cell_type": "code",
   "execution_count": 59,
   "metadata": {
    "collapsed": false
   },
   "outputs": [],
   "source": [
    "GEOHASH_PRECISION = 3\n",
    "MAX_RANGE = 426 #Maximum Tesla Model S range in Km from https://en.wikipedia.org/wiki/Tesla_Model_S\n",
    "def build_connections(G,src_hash):\n",
    "    print (nx.number_of_nodes(G))\n",
    "    connections = {}\n",
    "    node_hashes = ([node for node in G\n",
    "                  if node[0:GEOHASH_PRECISION] in list(get_adj_geohashes(src_hash[0:GEOHASH_PRECISION]).values())\n",
    "                  and node != src_hash])\n",
    "    close_connections = ([{'node':node_gh,\n",
    "                           'distance':get_geohash_distance(src_hash,node_gh)} for node_gh in node_hashes])\n",
    "    for connection in close_connections:\n",
    "        if connection['distance']/1000 <= MAX_RANGE:\n",
    "            G.add_edge(src_hash,connection['node'],{'distance':connection['distance'],\n",
    "                                                    'lon_lat_1':reverse_GPS(geohash.decode(src_hash)),\n",
    "                                                    'lon_lat_2':reverse_GPS(geohash.decode(connection['node']))})\n",
    "    return G"
   ]
  },
  {
   "cell_type": "code",
   "execution_count": 37,
   "metadata": {
    "collapsed": true
   },
   "outputs": [],
   "source": [
    "def reverse_GPS(GPS):\n",
    "    return [GPS[1],GPS[0]]"
   ]
  },
  {
   "cell_type": "code",
   "execution_count": 67,
   "metadata": {
    "collapsed": false
   },
   "outputs": [],
   "source": [
    "def build_network():\n",
    "    G=nx.Graph()\n",
    "    df = pd.read_csv(\"Teslarati_SC_data.csv\")\n",
    "    df[\"lat\"], df[\"lon\"] = zip(*df[\"GPS\"].str.split(',').tolist())\n",
    "    df[\"lat\"], df[\"lon\"] = df[\"lat\"].astype(float), df[\"lon\"].astype(float)\n",
    "    df['GPS_lon_lat'] = df.apply(lambda x: [x[\"lon\"],x[\"lat\"]], axis=1)\n",
    "    df['geohash'] = df.apply(lambda x: geohash.encode(x['lat'],x['lon']), axis=1)\n",
    "    \n",
    "    for i in df['geohash'].keys():\n",
    "        G.add_node(df['geohash'][i],{'GPS_lon_lat':df['GPS_lon_lat'][i]})\n",
    "        build_connections(G,df['geohash'][i])\n",
    "    \n",
    "    data = json_graph.node_link_data(G)\n",
    "    print (data)\n",
    "    with open(\"connections.json\",\"w\") as f:\n",
    "        json.dump(data,f)\n",
    "    return G"
   ]
  },
  {
   "cell_type": "code",
   "execution_count": null,
   "metadata": {
    "collapsed": false
   },
   "outputs": [],
   "source": [
    "test_G = build_network()"
   ]
  },
  {
   "cell_type": "code",
   "execution_count": 32,
   "metadata": {
    "collapsed": false
   },
   "outputs": [
    {
     "data": {
      "text/plain": [
       "[('dr4qbsffydeg', 'dr6pbb658ut2'),\n",
       " ('dr4qbsffydeg', 'dr63w0p6cwbt'),\n",
       " ('dr63w0p6cwbt', 'dr6pbb658ut2'),\n",
       " ('9qeqhugxq5w5', '9qd9x3ey0frp'),\n",
       " ('9qd9x3ey0frp', '9q717h3ht9ye'),\n",
       " ('dnm60k31rgq5', 'dnjqp5cgs92e'),\n",
       " ('dnxx0b8z7584', 'dnw65tcbz7q7'),\n",
       " ('9q717h3ht9ye', '9q5f7vrfnun9')]"
      ]
     },
     "execution_count": 32,
     "metadata": {},
     "output_type": "execute_result"
    }
   ],
   "source": [
    "test_G.edges()"
   ]
  }
 ],
 "metadata": {
  "kernelspec": {
   "display_name": "Python 3",
   "language": "python",
   "name": "python3"
  },
  "language_info": {
   "codemirror_mode": {
    "name": "ipython",
    "version": 3
   },
   "file_extension": ".py",
   "mimetype": "text/x-python",
   "name": "python",
   "nbconvert_exporter": "python",
   "pygments_lexer": "ipython3",
   "version": "3.5.0"
  }
 },
 "nbformat": 4,
 "nbformat_minor": 0
}
