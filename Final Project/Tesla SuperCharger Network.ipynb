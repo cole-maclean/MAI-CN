{
 "cells": [
  {
   "cell_type": "code",
   "execution_count": 340,
   "metadata": {
    "collapsed": false
   },
   "outputs": [],
   "source": [
    "import geohash\n",
    "import pandas as pd\n",
    "import configparser\n",
    "import googlemaps\n",
    "import time\n",
    "import json\n",
    "import os\n",
    "import networkx as nx\n",
    "from networkx.readwrite import json_graph\n",
    "from bs4 import BeautifulSoup\n",
    "import requests\n",
    "import csv\n",
    "from math import radians, cos, sin, asin, sqrt"
   ]
  },
  {
   "cell_type": "code",
   "execution_count": 6,
   "metadata": {
    "collapsed": true
   },
   "outputs": [],
   "source": [
    "def odd_even(str_hash):\n",
    "    if len(str_hash)%2 == 0:\n",
    "        return 'even'\n",
    "    else:\n",
    "        return 'odd'"
   ]
  },
  {
   "cell_type": "code",
   "execution_count": 288,
   "metadata": {
    "collapsed": true
   },
   "outputs": [],
   "source": [
    "config = configparser.ConfigParser()\n",
    "config.read(\"config.ini\")\n",
    "API_key = config['Keys']['google_API']\n",
    "gmaps = googlemaps.Client(key=API_key)()"
   ]
  },
  {
   "cell_type": "code",
   "execution_count": 289,
   "metadata": {
    "collapsed": true
   },
   "outputs": [],
   "source": [
    "def get_geohash_distance(gh_A,gh_B):   \n",
    "    GPS_A = geohash.decode(gh_A)\n",
    "    GPS_B = geohash.decode(gh_B) \n",
    "    directions_result = gmaps.directions(GPS_A,\n",
    "                                         GPS_B,\n",
    "                                         mode=\"driving\")\n",
    "    time.sleep(1)\n",
    "    return directions_result[0]['legs'][0]['distance']['value'] "
   ]
  },
  {
   "cell_type": "code",
   "execution_count": 400,
   "metadata": {
    "collapsed": false
   },
   "outputs": [],
   "source": [
    "GEOHASH_PRECISION = 3\n",
    "MAX_RANGE = 426 #Maximum Tesla Model S range in Km from https://en.wikipedia.org/wiki/Tesla_Model_S\n",
    "POP_DICT = load_pop_dict()\n",
    "def build_connections(G,src_hash):\n",
    "    print (nx.number_of_nodes(G))\n",
    "    connections = {}\n",
    "    node_hashes = ([node for node in G\n",
    "                  if node[0:GEOHASH_PRECISION] in geohash.expand(src_hash[0:GEOHASH_PRECISION])\n",
    "                  and node != src_hash])\n",
    "    close_connections = ([{'node':node_gh,\n",
    "                           'distance':get_geohash_distance(src_hash,node_gh)} for node_gh in node_hashes])\n",
    "    for connection in close_connections:\n",
    "        if connection['distance']/1000 <= MAX_RANGE:\n",
    "            edge_weight = get_edge_weight(G,src_hash,connection['node'])\n",
    "            G.add_edge(src_hash,connection['node'],{'weight':edge_weight,'distance':connection['distance'],\n",
    "                                                    'lon_lat_1':reverse_GPS(geohash.decode(src_hash)),\n",
    "                                                    'lon_lat_2':reverse_GPS(geohash.decode(connection['node']))})\n",
    "    return G"
   ]
  },
  {
   "cell_type": "code",
   "execution_count": 398,
   "metadata": {
    "collapsed": false
   },
   "outputs": [],
   "source": [
    "def get_edge_weight(G,src_hash,connection_hash):\n",
    "    try:\n",
    "        pop1 = get_closest_population(src_hash,8)\n",
    "        pop2 = get_closest_population(connection_hash,8)\n",
    "        return (pop1+pop2)/POP_DICT['total']\n",
    "    except KeyError as e:\n",
    "        print(e)\n",
    "        return 0    "
   ]
  },
  {
   "cell_type": "code",
   "execution_count": 9,
   "metadata": {
    "collapsed": true
   },
   "outputs": [],
   "source": [
    "def reverse_GPS(GPS):\n",
    "    return [GPS[1],GPS[0]]"
   ]
  },
  {
   "cell_type": "code",
   "execution_count": 404,
   "metadata": {
    "collapsed": false
   },
   "outputs": [],
   "source": [
    "def build_network():\n",
    "    G = load_network()\n",
    "    df = pd.read_csv(\"Teslarati_SC_data.csv\",dtype={'Stalls': float,'Zip':str,'Tesla':str,'Elev':str})\n",
    "    df[\"lat\"], df[\"lon\"] = zip(*df[\"GPS\"].str.split(',').tolist())\n",
    "    df[\"lat\"], df[\"lon\"] = df[\"lat\"].astype(float), df[\"lon\"].astype(float)\n",
    "    df['GPS_lon_lat'] = df.apply(lambda x: [x[\"lon\"],x[\"lat\"]], axis=1)\n",
    "    df['geohash'] = df.apply(lambda x: geohash.encode(x['lat'],x['lon']), axis=1)\n",
    "    df['SC_data'] = df.apply(lambda x: parse_Tesla_SC_data(x['Tesla']), axis=1)\n",
    "    \n",
    "    for i in df['geohash'].keys():\n",
    "        if df['geohash'][i] not in G:\n",
    "            G.add_node(df['geohash'][i],{key:df[key][i] for key in df.keys()})\n",
    "            build_connections(G,df['geohash'][i])\n",
    "    \n",
    "    network = json_graph.node_link_data(G)\n",
    "    with open(\"network.json\",\"w\") as f:\n",
    "        json.dump(network,f)\n",
    "    return G"
   ]
  },
  {
   "cell_type": "code",
   "execution_count": 405,
   "metadata": {
    "collapsed": false
   },
   "outputs": [
    {
     "name": "stdout",
     "output_type": "stream",
     "text": [
      "11\n",
      "12\n",
      "13\n",
      "14\n",
      "15\n",
      "16\n",
      "17\n",
      "18\n",
      "19\n",
      "20\n",
      "21\n",
      "22\n",
      "23\n",
      "24\n",
      "25\n",
      "26\n",
      "27\n",
      "28\n",
      "29\n",
      "30\n",
      "31\n",
      "32\n",
      "33\n",
      "34\n",
      "35\n",
      "36\n",
      "37\n",
      "38\n",
      "39\n",
      "40\n",
      "41\n",
      "42\n",
      "43\n",
      "44\n",
      "45\n",
      "46\n",
      "47\n",
      "48\n",
      "49\n",
      "50\n",
      "51\n",
      "52\n",
      "53\n",
      "54\n",
      "55\n",
      "56\n",
      "57\n",
      "58\n",
      "59\n",
      "60\n",
      "61\n",
      "62\n",
      "63\n",
      "64\n",
      "65\n",
      "66\n",
      "67\n",
      "68\n",
      "69\n",
      "70\n",
      "71\n",
      "72\n",
      "73\n",
      "74\n",
      "75\n",
      "76\n",
      "77\n",
      "78\n",
      "79\n",
      "80\n",
      "81\n",
      "82\n",
      "83\n",
      "84\n",
      "85\n",
      "86\n",
      "87\n",
      "88\n",
      "89\n",
      "90\n",
      "91\n",
      "92\n",
      "93\n",
      "94\n",
      "95\n",
      "96\n",
      "97\n",
      "98\n",
      "99\n",
      "100\n",
      "101\n",
      "102\n",
      "103\n",
      "104\n",
      "105\n",
      "106\n",
      "107\n",
      "108\n",
      "109\n",
      "110\n",
      "111\n",
      "112\n",
      "113\n",
      "114\n",
      "115\n",
      "116\n",
      "117\n",
      "118\n",
      "119\n",
      "120\n",
      "121\n",
      "122\n",
      "123\n",
      "124\n",
      "125\n",
      "126\n",
      "127\n",
      "128\n",
      "129\n",
      "130\n",
      "131\n",
      "132\n",
      "133\n",
      "134\n",
      "135\n",
      "136\n",
      "137\n",
      "138\n",
      "139\n",
      "140\n",
      "141\n",
      "142\n",
      "143\n",
      "144\n",
      "145\n",
      "146\n",
      "147\n",
      "148\n",
      "149\n",
      "150\n",
      "151\n",
      "152\n",
      "153\n",
      "154\n",
      "155\n",
      "156\n",
      "157\n",
      "158\n",
      "159\n",
      "160\n",
      "161\n",
      "162\n",
      "163\n",
      "164\n",
      "165\n",
      "166\n",
      "167\n",
      "168\n",
      "169\n",
      "170\n",
      "171\n",
      "172\n",
      "173\n",
      "174\n",
      "175\n",
      "176\n",
      "177\n",
      "178\n",
      "179\n",
      "180\n",
      "181\n",
      "182\n",
      "183\n",
      "184\n",
      "185\n",
      "186\n",
      "187\n",
      "188\n",
      "189\n",
      "190\n",
      "191\n",
      "192\n",
      "193\n",
      "194\n",
      "195\n",
      "196\n",
      "197\n",
      "198\n",
      "199\n",
      "200\n",
      "201\n",
      "202\n",
      "203\n",
      "204\n",
      "205\n",
      "206\n",
      "207\n",
      "208\n",
      "209\n",
      "210\n",
      "211\n",
      "212\n",
      "213\n",
      "214\n",
      "215\n",
      "216\n",
      "217\n",
      "218\n",
      "219\n",
      "220\n",
      "221\n",
      "222\n",
      "223\n",
      "224\n",
      "225\n",
      "226\n",
      "227\n",
      "228\n",
      "229\n",
      "230\n",
      "231\n",
      "232\n",
      "233\n",
      "234\n",
      "235\n",
      "236\n",
      "237\n",
      "238\n",
      "239\n",
      "240\n",
      "241\n",
      "242\n",
      "243\n",
      "244\n",
      "245\n",
      "246\n",
      "247\n",
      "248\n",
      "249\n",
      "250\n",
      "251\n",
      "252\n",
      "253\n",
      "254\n",
      "255\n",
      "256\n",
      "257\n",
      "258\n",
      "259\n",
      "260\n",
      "261\n",
      "262\n",
      "263\n",
      "264\n",
      "265\n",
      "266\n",
      "267\n",
      "268\n",
      "269\n",
      "270\n",
      "271\n",
      "272\n",
      "273\n",
      "274\n",
      "275\n",
      "276\n",
      "277\n",
      "278\n",
      "279\n",
      "280\n",
      "281\n",
      "282\n",
      "283\n",
      "284\n",
      "285\n",
      "286\n",
      "287\n",
      "288\n",
      "289\n",
      "290\n",
      "291\n",
      "292\n",
      "293\n",
      "294\n",
      "295\n",
      "296\n",
      "297\n",
      "298\n",
      "299\n",
      "300\n",
      "301\n",
      "302\n"
     ]
    }
   ],
   "source": [
    "test_g = build_network()"
   ]
  },
  {
   "cell_type": "code",
   "execution_count": 282,
   "metadata": {
    "collapsed": false
   },
   "outputs": [],
   "source": [
    "def load_network():\n",
    "    if os.path.getsize(\"network.json\") > 0:\n",
    "        with open(\"network.json\",\"r\") as f:\n",
    "            data = json.load(f)\n",
    "            G = json_graph.node_link_graph(data)\n",
    "    else:\n",
    "        G=nx.Graph()\n",
    "    return G"
   ]
  },
  {
   "cell_type": "code",
   "execution_count": 353,
   "metadata": {
    "collapsed": true
   },
   "outputs": [],
   "source": [
    "def load_pop_dict():\n",
    "    with open('populations.json', 'r') as f:\n",
    "        p_dict = json.load(f)\n",
    "    return p_dict"
   ]
  },
  {
   "cell_type": "code",
   "execution_count": 183,
   "metadata": {
    "collapsed": false
   },
   "outputs": [],
   "source": [
    "def parse_Tesla_SC_data(URL):\n",
    "    SC_data = {}\n",
    "    r = requests.get(URL)\n",
    "    soup = BeautifulSoup(r.text,\"html.parser\")\n",
    "    attr_lists = soup.find_all('p')\n",
    "    for attr in attr_lists:\n",
    "        if attr.find('strong'):\n",
    "            #probably not ideal, but only way I could get BS to parse 'br' correctly. Better way must exist.\n",
    "            SC_data[attr.find('strong').text] = [value for value in attr.childGenerator()\n",
    "                                                 if value.name == None and value != ' ']\n",
    "    time.sleep(1)\n",
    "    return SC_data"
   ]
  },
  {
   "cell_type": "code",
   "execution_count": 145,
   "metadata": {
    "collapsed": false
   },
   "outputs": [
    {
     "data": {
      "text/plain": [
       "{'Amenities': ['Tanger Outlet mall, take the foot path around the AM/PM'],\n",
       " 'Charging': ['8 Supercharger stalls, available 24/7'],\n",
       " 'Public Charging': ['Pay NEMA 14-50 Outlet',\n",
       "  'Barstow Calico KOA',\n",
       "  '35250 Outer Highway 15 North',\n",
       "  'Yermo, CA 92398'],\n",
       " 'Restrooms': [\"Chili's\", 'Country Inn (open 24hrs)'],\n",
       " 'Wifi': ['Country Inn',\n",
       "  'Starbucks (Starbucks is located behind Country Inn, not visible from the charging stalls)']}"
      ]
     },
     "execution_count": 145,
     "metadata": {},
     "output_type": "execute_result"
    }
   ],
   "source": [
    "parse_Tesla_SC_data('http://www.teslamotors.com/findus/location/supercharger/barstowsupercharger')"
   ]
  },
  {
   "cell_type": "code",
   "execution_count": 323,
   "metadata": {
    "collapsed": true
   },
   "outputs": [],
   "source": [
    "def google_city_location(city):\n",
    "    location = gmaps.geocode(city)\n",
    "    time.sleep(.1)\n",
    "    return location"
   ]
  },
  {
   "cell_type": "code",
   "execution_count": 313,
   "metadata": {
    "collapsed": false
   },
   "outputs": [
    {
     "data": {
      "text/plain": [
       "{'lat': 44.5207419, 'lng': -80.01606679999999}"
      ]
     },
     "execution_count": 313,
     "metadata": {},
     "output_type": "execute_result"
    }
   ],
   "source": [
    "google_city_GPS('WasagaBeach_ON')[0]['geometry']['location']"
   ]
  },
  {
   "cell_type": "code",
   "execution_count": 396,
   "metadata": {
    "collapsed": true
   },
   "outputs": [],
   "source": [
    "def build_pop_dict():\n",
    "    total_pop = 0\n",
    "    pop_gps_dict = {}\n",
    "    for city,pop in POP_DICT.items():\n",
    "        try:\n",
    "            geocode_data = google_city_GPS(city)\n",
    "            city_location = geocode_data[0]['geometry']['location']\n",
    "            gh = geohash.encode(city_location['lat'],city_location['lng'])\n",
    "            pop_gps_dict[gh] = ({'city':city,\n",
    "                                        'population':pop,\n",
    "                                        'lat':city_location['lat'],\n",
    "                                        'lon':city_location['lng']})\n",
    "            total_pop = total_pop + pop\n",
    "        except IndexError as e:\n",
    "            print (geocode_data)\n",
    "            print (city + \" not found\")\n",
    "    pop_gps_dict['total'] = total_pop\n",
    "    with open(\"populations.json\",\"w\") as f:\n",
    "        json.dump(pop_gps_dict,f)    "
   ]
  },
  {
   "cell_type": "code",
   "execution_count": 393,
   "metadata": {
    "collapsed": false
   },
   "outputs": [],
   "source": [
    "def get_closest_population(src_hash,precision):\n",
    "    close_gh = ([gh for gh in list(POP_DICT.keys())\n",
    "                    if gh[0:precision] in geohash.expand(src_hash[0:precision])])\n",
    "    if close_gh:\n",
    "        if len(close_gh) == 1:\n",
    "            return POP_DICT[close_gh[0]]['population']\n",
    "        else:\n",
    "            src_GPS = reverse_GPS(geohash.decode(src_hash))\n",
    "            gh_distances = [(gh,haversine(*src_GPS,*reverse_GPS(geohash.decode(gh)))) for gh in close_gh]\n",
    "            closest_gh = sorted(gh_distances,key=lambda tup: tup[1])[0][0]\n",
    "            return POP_DICT[closest_gh]['population']\n",
    "    else:\n",
    "        return get_closest_population(src_hash,precision-1)"
   ]
  },
  {
   "cell_type": "code",
   "execution_count": 361,
   "metadata": {
    "collapsed": true
   },
   "outputs": [],
   "source": [
    "def haversine(lon1, lat1, lon2, lat2):\n",
    "    \"\"\"\n",
    "    Calculate the great circle distance between two points \n",
    "    on the earth (specified in decimal degrees)\n",
    "    \"\"\"\n",
    "    # convert decimal degrees to radians \n",
    "    lon1, lat1, lon2, lat2 = map(radians, [lon1, lat1, lon2, lat2])\n",
    "    # haversine formula \n",
    "    dlon = lon2 - lon1 \n",
    "    dlat = lat2 - lat1 \n",
    "    a = sin(dlat/2)**2 + cos(lat1) * cos(lat2) * sin(dlon/2)**2\n",
    "    c = 2 * asin(sqrt(a)) \n",
    "    km = 6367 * c\n",
    "    return km"
   ]
  },
  {
   "cell_type": "code",
   "execution_count": 395,
   "metadata": {
    "collapsed": false
   },
   "outputs": [
    {
     "data": {
      "text/plain": [
       "10081"
      ]
     },
     "execution_count": 395,
     "metadata": {},
     "output_type": "execute_result"
    }
   ],
   "source": [
    "get_closest_population('dnq2u3y4b',8)"
   ]
  }
 ],
 "metadata": {
  "kernelspec": {
   "display_name": "Python 3",
   "language": "python",
   "name": "python3"
  },
  "language_info": {
   "codemirror_mode": {
    "name": "ipython",
    "version": 3
   },
   "file_extension": ".py",
   "mimetype": "text/x-python",
   "name": "python",
   "nbconvert_exporter": "python",
   "pygments_lexer": "ipython3",
   "version": "3.5.0"
  }
 },
 "nbformat": 4,
 "nbformat_minor": 0
}
