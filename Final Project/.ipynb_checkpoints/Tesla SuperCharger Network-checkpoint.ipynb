{
 "cells": [
  {
   "cell_type": "code",
   "execution_count": 4,
   "metadata": {
    "collapsed": false
   },
   "outputs": [],
   "source": [
    "import geohash\n",
    "import pandas as pd\n",
    "import configparser\n",
    "import googlemaps\n",
    "import time\n",
    "import json\n",
    "import os\n",
    "import networkx as nx\n",
    "from networkx.readwrite import json_graph\n",
    "from bs4 import BeautifulSoup\n",
    "import requests\n",
    "import csv\n",
    "from math import radians, cos, sin, asin, sqrt"
   ]
  },
  {
   "cell_type": "code",
   "execution_count": 5,
   "metadata": {
    "collapsed": false
   },
   "outputs": [],
   "source": [
    "config = configparser.ConfigParser()\n",
    "config.read(\"config.ini\")\n",
    "API_key = config['Keys']['google_API']\n",
    "gmaps = googlemaps.Client(key=API_key)"
   ]
  },
  {
   "cell_type": "code",
   "execution_count": 6,
   "metadata": {
    "collapsed": true
   },
   "outputs": [],
   "source": [
    "def get_geohash_distance(gh_A,gh_B):   \n",
    "    GPS_A = geohash.decode(gh_A)\n",
    "    GPS_B = geohash.decode(gh_B) \n",
    "    directions_result = gmaps.directions(GPS_A,\n",
    "                                         GPS_B,\n",
    "                                         mode=\"driving\")\n",
    "    time.sleep(1)\n",
    "    return directions_result[0]['legs'][0]['distance']['value'] "
   ]
  },
  {
   "cell_type": "code",
   "execution_count": 8,
   "metadata": {
    "collapsed": true
   },
   "outputs": [],
   "source": [
    "def load_pop_dict():\n",
    "    with open('populations.json', 'r') as f:\n",
    "        p_dict = json.load(f)\n",
    "    return p_dict"
   ]
  },
  {
   "cell_type": "code",
   "execution_count": 9,
   "metadata": {
    "collapsed": false
   },
   "outputs": [],
   "source": [
    "GEOHASH_PRECISION = 2\n",
    "MAX_RANGE = 346 #Base Tesla Model 3 range (346 km/215 miles)\n",
    "POP_DICT = load_pop_dict()\n",
    "def build_connections(G,src_hash):\n",
    "    print (nx.number_of_nodes(G))\n",
    "    connections = {}\n",
    "    node_hashes = ([node for node in G\n",
    "                  if node[0:GEOHASH_PRECISION] in geohash.expand(src_hash[0:GEOHASH_PRECISION])\n",
    "                  and node != src_hash])\n",
    "    src_GPS = reverse_GPS(geohash.decode(src_hash))\n",
    "    close_connections = ([{'node':node_gh,\n",
    "                           'distance':get_geohash_distance(src_hash,node_gh)} for node_gh in node_hashes\n",
    "                            if haversine(*src_GPS,*reverse_GPS(geohash.decode(node_gh))) <= MAX_RANGE])\n",
    "    for connection in close_connections:\n",
    "        if connection['distance']/1000 <= MAX_RANGE:\n",
    "            edge_weight = get_edge_weight(G,src_hash,connection['node'])\n",
    "            G.add_edge(src_hash,connection['node'],{'weight':edge_weight,'distance':connection['distance'],\n",
    "                                                    'lon_lat_1':reverse_GPS(geohash.decode(src_hash)),\n",
    "                                                    'lon_lat_2':reverse_GPS(geohash.decode(connection['node']))})\n",
    "    return G"
   ]
  },
  {
   "cell_type": "code",
   "execution_count": 10,
   "metadata": {
    "collapsed": false
   },
   "outputs": [],
   "source": [
    "def get_edge_weight(G,src_hash,connection_hash):\n",
    "    try:\n",
    "        pop1 = get_closest_population(src_hash,8)\n",
    "        pop2 = get_closest_population(connection_hash,8)\n",
    "        return (pop1+pop2)/POP_DICT['total']\n",
    "    except KeyError as e:\n",
    "        print(e)\n",
    "        return 0    "
   ]
  },
  {
   "cell_type": "code",
   "execution_count": 11,
   "metadata": {
    "collapsed": true
   },
   "outputs": [],
   "source": [
    "def reverse_GPS(GPS):\n",
    "    return [GPS[1],GPS[0]]"
   ]
  },
  {
   "cell_type": "code",
   "execution_count": 12,
   "metadata": {
    "collapsed": false
   },
   "outputs": [],
   "source": [
    "def build_network():\n",
    "    G = load_network()\n",
    "    df = pd.read_csv(\"Teslarati_SC_data.csv\",dtype={'Stalls': float,'Zip':str,'Tesla':str,'Elev':str})\n",
    "    df[\"lat\"], df[\"lon\"] = zip(*df[\"GPS\"].str.split(',').tolist())\n",
    "    df[\"lat\"], df[\"lon\"] = df[\"lat\"].astype(float), df[\"lon\"].astype(float)\n",
    "    df['GPS_lon_lat'] = df.apply(lambda x: [x[\"lon\"],x[\"lat\"]], axis=1)\n",
    "    df['geohash'] = df.apply(lambda x: geohash.encode(x['lat'],x['lon']), axis=1)\n",
    "    df['population'] = df.apply(lambda x: get_closest_population(x['geohash'],8), axis=1)\n",
    "    \n",
    "    for i in df['geohash'].keys():\n",
    "        if df['geohash'][i] not in G:\n",
    "            df['SC_data'][i] = parse_Tesla_SC_data(df['Tesla'][i])\n",
    "            G.add_node(df['geohash'][i],{key:df[key][i] for key in df.keys()})\n",
    "            build_connections(G,df['geohash'][i])\n",
    "    \n",
    "    network = json_graph.node_link_data(G)\n",
    "    with open(\"network.json\",\"w\") as f:\n",
    "        json.dump(network,f)\n",
    "    return G"
   ]
  },
  {
   "cell_type": "code",
   "execution_count": 23,
   "metadata": {
    "collapsed": false
   },
   "outputs": [],
   "source": [
    "test_g = build_network()"
   ]
  },
  {
   "cell_type": "code",
   "execution_count": 14,
   "metadata": {
    "collapsed": false
   },
   "outputs": [],
   "source": [
    "def load_network():\n",
    "    if os.path.getsize(\"network.json\") > 0:\n",
    "        with open(\"network.json\",\"r\") as f:\n",
    "            data = json.load(f)\n",
    "            G = json_graph.node_link_graph(data)\n",
    "    else:\n",
    "        G=nx.Graph()\n",
    "    return G"
   ]
  },
  {
   "cell_type": "code",
   "execution_count": 24,
   "metadata": {
    "collapsed": false
   },
   "outputs": [],
   "source": [
    "def parse_Tesla_SC_data(URL):\n",
    "    SC_data = {}\n",
    "    r = requests.get(URL)\n",
    "    soup = BeautifulSoup(r.text,\"html.parser\")\n",
    "    attr_lists = soup.find_all('p')\n",
    "    for attr in attr_lists:\n",
    "        if attr.find('strong'):\n",
    "            #probably not ideal, but only way I could get BS to parse 'br' correctly. Better way must exist.\n",
    "            SC_data[attr.find('strong').text] = [value for value in attr.childGenerator()\n",
    "                                                 if value.name == None and value != ' ']\n",
    "            SC_data['Chargers'] = SC_data['Charging'][0][0]\n",
    "    time.sleep(1)\n",
    "    return SC_data"
   ]
  },
  {
   "cell_type": "code",
   "execution_count": 17,
   "metadata": {
    "collapsed": true
   },
   "outputs": [],
   "source": [
    "def google_city_location(city):\n",
    "    location = gmaps.geocode(city)\n",
    "    time.sleep(.1)\n",
    "    return location"
   ]
  },
  {
   "cell_type": "code",
   "execution_count": 18,
   "metadata": {
    "collapsed": true
   },
   "outputs": [],
   "source": [
    "def build_pop_dict():\n",
    "    total_pop = 0\n",
    "    pop_gps_dict = {}\n",
    "    for city,pop in POP_DICT.items():\n",
    "        try:\n",
    "            geocode_data = google_city_GPS(city)\n",
    "            city_location = geocode_data[0]['geometry']['location']\n",
    "            gh = geohash.encode(city_location['lat'],city_location['lng'])\n",
    "            pop_gps_dict[gh] = ({'city':city,\n",
    "                                        'population':pop,\n",
    "                                        'lat':city_location['lat'],\n",
    "                                        'lon':city_location['lng']})\n",
    "            total_pop = total_pop + pop\n",
    "        except IndexError as e:\n",
    "            print (geocode_data)\n",
    "            print (city + \" not found\")\n",
    "    pop_gps_dict['total'] = total_pop\n",
    "    with open(\"populations.json\",\"w\") as f:\n",
    "        json.dump(pop_gps_dict,f)    "
   ]
  },
  {
   "cell_type": "code",
   "execution_count": 19,
   "metadata": {
    "collapsed": false
   },
   "outputs": [],
   "source": [
    "def get_closest_population(src_hash,precision):\n",
    "    close_gh = ([gh for gh in list(POP_DICT.keys())\n",
    "                    if gh[0:precision] in geohash.expand(src_hash[0:precision])])\n",
    "    if close_gh:\n",
    "        if len(close_gh) == 1:\n",
    "            return POP_DICT[close_gh[0]]['population']\n",
    "        else:\n",
    "            src_GPS = reverse_GPS(geohash.decode(src_hash))\n",
    "            gh_distances = [(gh,haversine(*src_GPS,*reverse_GPS(geohash.decode(gh)))) for gh in close_gh]\n",
    "            closest_gh = sorted(gh_distances,key=lambda tup: tup[1])[0][0]\n",
    "            return POP_DICT[closest_gh]['population']\n",
    "    else:\n",
    "        return get_closest_population(src_hash,precision-1)"
   ]
  },
  {
   "cell_type": "code",
   "execution_count": 21,
   "metadata": {
    "collapsed": true
   },
   "outputs": [],
   "source": [
    "def haversine(lon1, lat1, lon2, lat2):\n",
    "    \"\"\"\n",
    "    Calculate the great circle distance between two points \n",
    "    on the earth (specified in decimal degrees)\n",
    "    \"\"\"\n",
    "    # convert decimal degrees to radians \n",
    "    lon1, lat1, lon2, lat2 = map(radians, [lon1, lat1, lon2, lat2])\n",
    "    # haversine formula \n",
    "    dlon = lon2 - lon1 \n",
    "    dlat = lat2 - lat1 \n",
    "    a = sin(dlat/2)**2 + cos(lat1) * cos(lat2) * sin(dlon/2)**2\n",
    "    c = 2 * asin(sqrt(a)) \n",
    "    km = 6367 * c\n",
    "    return km"
   ]
  },
  {
   "cell_type": "code",
   "execution_count": 22,
   "metadata": {
    "collapsed": false
   },
   "outputs": [
    {
     "data": {
      "text/plain": [
       "10081"
      ]
     },
     "execution_count": 22,
     "metadata": {},
     "output_type": "execute_result"
    }
   ],
   "source": [
    "get_closest_population('dnq2u3y4b',8)"
   ]
  }
 ],
 "metadata": {
  "kernelspec": {
   "display_name": "Python 3",
   "language": "python",
   "name": "python3"
  },
  "language_info": {
   "codemirror_mode": {
    "name": "ipython",
    "version": 3
   },
   "file_extension": ".py",
   "mimetype": "text/x-python",
   "name": "python",
   "nbconvert_exporter": "python",
   "pygments_lexer": "ipython3",
   "version": "3.5.0"
  }
 },
 "nbformat": 4,
 "nbformat_minor": 0
}
