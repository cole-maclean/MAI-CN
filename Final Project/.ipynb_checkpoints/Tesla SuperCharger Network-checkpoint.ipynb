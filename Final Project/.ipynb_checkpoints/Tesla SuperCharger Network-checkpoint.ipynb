{
 "cells": [
  {
   "cell_type": "code",
   "execution_count": 57,
   "metadata": {
    "collapsed": false
   },
   "outputs": [
    {
     "data": {
      "text/plain": [
       "0      9qsczpyjczz0\n",
       "1      dj2hjmyeky0x\n",
       "2      9qd9x3ey0frp\n",
       "3      9q717h3ht9ye\n",
       "4      dr4qbsffydeg\n",
       "5      9qeqhugxq5w5\n",
       "6      9qbqsqfc8t92\n",
       "7      dng16kqb0kkh\n",
       "8      9v559hy51f16\n",
       "9      dnw65tcbz7q7\n",
       "10     9wvkywhv68k5\n",
       "11     dpg7bt7ke9u4\n",
       "12     dhwutbgpfcus\n",
       "13     dnm60k31rgq5\n",
       "14     dnxx0b8z7584\n",
       "15     9q5f7vrfnun9\n",
       "16     dr63w0p6cwbt\n",
       "17     dryk7cr3461j\n",
       "18     djmzjtq31nqj\n",
       "19     dnjqp5cgs92e\n",
       "20     9wr80qw3km1w\n",
       "21     c21431kn9xeu\n",
       "22     drguywrcdhgu\n",
       "23     9vfvhctdfqd8\n",
       "24     dr6pbb658ut2\n",
       "25     9rwd76xxctun\n",
       "26     9qfx9wkdknuj\n",
       "27     9qfupsk0en7s\n",
       "28     cbhzz5h86rsk\n",
       "29     cbjvtrc33ctf\n",
       "           ...     \n",
       "250    dr79xk5x3m1w\n",
       "251    dr41ts6c9p0b\n",
       "252    drk4dsekeqgv\n",
       "253    drk4dss6r30b\n",
       "254    9qhwr8hfzk7x\n",
       "255    9q5bgr4stcks\n",
       "256    9q9d9snvb7hy\n",
       "257    9q5rj33bpbys\n",
       "258    9q6qpzv7tzqs\n",
       "259    9y7vub11v6kz\n",
       "260    9prttbu44y8y\n",
       "261    9ppxyp89xkv7\n",
       "262    9qc19bd4d23y\n",
       "263    dqcq7j194r3s\n",
       "264    9vuh82rvrx09\n",
       "265    dprp1wfgymus\n",
       "266    9vu0eznewfye\n",
       "267    9ywxyfz2kbhr\n",
       "268    dp2e5zhk5nrm\n",
       "269    9qh0ju82wcpg\n",
       "270    9rzvvvjsdfdn\n",
       "271    9x8r6r6mpb51\n",
       "272    dp1hrs7heeu8\n",
       "273    9qdx203fcxt6\n",
       "274    dq0rjfx76y5r\n",
       "275    dp1bksrjdxz8\n",
       "276    9q4ggh7vh3kd\n",
       "277    9q9m1qfgq8ut\n",
       "278    9qu8s66h4rhe\n",
       "279    9qfh76v22ep4\n",
       "Name: geohash, dtype: object"
      ]
     },
     "execution_count": 57,
     "metadata": {},
     "output_type": "execute_result"
    }
   ],
   "source": [
    "import geohash\n",
    "import pandas as pd\n",
    "\n",
    "df = pd.read_csv(\"C:/Users/macle/Desktop/UPC Masters/Semester 1/CN/Final Project/Teslarati_SC_data.csv\")\n",
    "df[\"lat\"], df[\"lon\"] = zip(*df[\"GPS\"].str.split(',').tolist())\n",
    "df[\"lat\"], df[\"lon\"] = df[\"lat\"].astype(float), df[\"lon\"].astype(float)\n",
    "df['geohash'] = df.apply(lambda x: geohash.encode(x['lat'],x['lon']), axis=1)\n",
    "df['geohash']"
   ]
  },
  {
   "cell_type": "code",
   "execution_count": null,
   "metadata": {
    "collapsed": true
   },
   "outputs": [],
   "source": []
  }
 ],
 "metadata": {
  "kernelspec": {
   "display_name": "Python 3",
   "language": "python",
   "name": "python3"
  },
  "language_info": {
   "codemirror_mode": {
    "name": "ipython",
    "version": 3
   },
   "file_extension": ".py",
   "mimetype": "text/x-python",
   "name": "python",
   "nbconvert_exporter": "python",
   "pygments_lexer": "ipython3",
   "version": "3.5.0"
  }
 },
 "nbformat": 4,
 "nbformat_minor": 0
}
