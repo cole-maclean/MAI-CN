{
 "cells": [
  {
   "cell_type": "code",
   "execution_count": 1,
   "metadata": {
    "collapsed": true
   },
   "outputs": [],
   "source": [
    "import geohash\n",
    "import pandas as pd\n",
    "import configparser\n",
    "import googlemaps\n",
    "import time"
   ]
  },
  {
   "cell_type": "code",
   "execution_count": 2,
   "metadata": {
    "collapsed": false
   },
   "outputs": [],
   "source": [
    "BASE_32 = \"0123456789bcdefghjkmnpqrstuvwxyz\"\n",
    "\n",
    "NEIGHBORS = {'right':{'even': \"bc01fg45238967deuvhjyznpkmstqrwx\",'odd':\"238967debc01fg45kmstqrwxuvhjyznp\"},\n",
    "             'left':{'even':\"238967debc01fg45kmstqrwxuvhjyznp\",'odd':\"14365h7k9dcfesgujnmqp0r2twvyx8zb\"},\n",
    "             'top':{'even':\"p0r21436x8zb9dcf5h7kjnmqesgutwvy\",'odd':\"bc01fg45238967deuvhjyznpkmstqrwx\"},\n",
    "             'bottom':{'even':\"14365h7k9dcfesgujnmqp0r2twvyx8zb\",'odd':\"238967debc01fg45kmstqrwxuvhjyznp\"}\n",
    "            }\n",
    "             \n",
    "BORDERS = {'right':{'even':\"bcfguvyz\",'odd':\"prxz\"},\n",
    "           'left':{'even':\"0145hjnp\",'odd':\"028b\"},\n",
    "           'top':{'even':\"prxz\",'odd':\"bcfguvyz\"},\n",
    "           'bottom':{'even':\"028b\",'odd':\"0145hjnp\"}\n",
    "          }\n",
    "\n",
    "def calc_adj_geohash(src_hash, search_direction):\n",
    "    L_src_hash = src_hash.lower()\n",
    "    last_char = L_src_hash[-1]\n",
    "    hash_type = odd_even(L_src_hash)\n",
    "    base = L_src_hash[0:len(L_src_hash)-1]\n",
    "    if  last_char in BORDERS[search_direction][hash_type]:\n",
    "        base = calc_adj_geohash(base, search_direction)\n",
    "    return base + BASE_32[NEIGHBORS[search_direction][hash_type].index(last_char)]"
   ]
  },
  {
   "cell_type": "code",
   "execution_count": 3,
   "metadata": {
    "collapsed": true
   },
   "outputs": [],
   "source": [
    "def get_adj_geohashes(src_hash):\n",
    "    directions = ['right','left','top','bottom']\n",
    "    adj_hash_dict = {direction:calc_adj_geohash(src_hash,direction) for direction in directions}\n",
    "    adj_hash_dict['top_right'] = calc_adj_geohash(adj_hash_dict['right'],'top')\n",
    "    adj_hash_dict['bottom_right'] = calc_adj_geohash(adj_hash_dict['right'],'bottom')\n",
    "    adj_hash_dict['top_left'] = calc_adj_geohash(adj_hash_dict['left'],'top')\n",
    "    adj_hash_dict['bottom_left'] = calc_adj_geohash(adj_hash_dict['left'],'bottom')\n",
    "    adj_hash_dict['middle'] = src_hash\n",
    "    return adj_hash_dict    "
   ]
  },
  {
   "cell_type": "code",
   "execution_count": 4,
   "metadata": {
    "collapsed": true
   },
   "outputs": [],
   "source": [
    "def odd_even(str_hash):\n",
    "    if len(str_hash)%2 == 0:\n",
    "        return 'even'\n",
    "    else:\n",
    "        return 'odd'"
   ]
  },
  {
   "cell_type": "code",
   "execution_count": 5,
   "metadata": {
    "collapsed": true
   },
   "outputs": [],
   "source": [
    "config = configparser.ConfigParser()\n",
    "config.read(\"config.ini\")\n",
    "API_key = config['Keys']['google_API']\n",
    "gmaps = googlemaps.Client(key=API_key)\n",
    "\n",
    "def get_geohash_distance(gh_A,gh_B):   \n",
    "    GPS_A = geohash.decode(gh_A)\n",
    "    GPS_B = geohash.decode(gh_B) \n",
    "    directions_result = gmaps.directions(GPS_A,\n",
    "                                         GPS_B,\n",
    "                                         mode=\"driving\")\n",
    "    time.sleep(1)\n",
    "    return directions_result[0]['legs'][0]['distance']['value'] "
   ]
  },
  {
   "cell_type": "code",
   "execution_count": 6,
   "metadata": {
    "collapsed": false
   },
   "outputs": [],
   "source": [
    "GEOHASH_PRECISION = 3\n",
    "MAX_RANGE = 426 #Maximum Tesla Model S range in Km from https://en.wikipedia.org/wiki/Tesla_Model_S\n",
    "def build_node_distance_list(df,src_hash):\n",
    "    print (src_hash)\n",
    "    node_hashes = ([gh for gh in df['geohash']\n",
    "                  if gh[0:GEOHASH_PRECISION] in list(get_adj_geohashes(src_hash[0:GEOHASH_PRECISION]).values())\n",
    "                  and gh != src_hash])\n",
    "    node_tuple = [(node_gh,get_geohash_distance(src_hash,node_gh)) for node_gh in node_hashes]\n",
    "    return ([(node[0],node[1]) for node in node_tuple if node[1]/1000 <= MAX_RANGE])"
   ]
  },
  {
   "cell_type": "code",
   "execution_count": 18,
   "metadata": {
    "collapsed": false
   },
   "outputs": [],
   "source": [
    "def build_data_model():\n",
    "    df = pd.read_csv(\"Teslarati_SC_data.csv\",nrows = 10)\n",
    "    df[\"lat\"], df[\"lon\"] = zip(*df[\"GPS\"].str.split(',').tolist())\n",
    "    df[\"lat\"], df[\"lon\"] = df[\"lat\"].astype(float), df[\"lon\"].astype(float)\n",
    "    df['GPS_lon_lat'] = df.apply(lambda x: [x[\"lon\"],x[\"lat\"]], axis=1)\n",
    "    df['geohash'] = df.apply(lambda x: geohash.encode(x['lat'],x['lon']), axis=1)\n",
    "    df['nodes'] = df.apply(lambda x: build_node_distance_list(df,x['geohash']), axis=1)\n",
    "    df.to_json('datamodel.json')"
   ]
  },
  {
   "cell_type": "code",
   "execution_count": 17,
   "metadata": {
    "collapsed": false
   },
   "outputs": [
    {
     "name": "stdout",
     "output_type": "stream",
     "text": [
      "9qsczpyjczz0\n"
     ]
    }
   ],
   "source": [
    "build_data_model()"
   ]
  }
 ],
 "metadata": {
  "kernelspec": {
   "display_name": "Python 3",
   "language": "python",
   "name": "python3"
  },
  "language_info": {
   "codemirror_mode": {
    "name": "ipython",
    "version": 3
   },
   "file_extension": ".py",
   "mimetype": "text/x-python",
   "name": "python",
   "nbconvert_exporter": "python",
   "pygments_lexer": "ipython3",
   "version": "3.5.0"
  }
 },
 "nbformat": 4,
 "nbformat_minor": 0
}
