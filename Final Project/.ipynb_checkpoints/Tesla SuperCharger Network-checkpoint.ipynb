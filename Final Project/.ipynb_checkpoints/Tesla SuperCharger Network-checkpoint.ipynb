{
 "cells": [
  {
   "cell_type": "code",
   "execution_count": 340,
   "metadata": {
    "collapsed": false
   },
   "outputs": [],
   "source": [
    "import geohash\n",
    "import pandas as pd\n",
    "import configparser\n",
    "import googlemaps\n",
    "import time\n",
    "import json\n",
    "import os\n",
    "import networkx as nx\n",
    "from networkx.readwrite import json_graph\n",
    "from bs4 import BeautifulSoup\n",
    "import requests\n",
    "import csv\n",
    "from math import radians, cos, sin, asin, sqrt"
   ]
  },
  {
   "cell_type": "code",
   "execution_count": 4,
   "metadata": {
    "collapsed": false
   },
   "outputs": [],
   "source": [
    "BASE_32 = \"0123456789bcdefghjkmnpqrstuvwxyz\"\n",
    "\n",
    "NEIGHBORS = {'right':{'even': \"bc01fg45238967deuvhjyznpkmstqrwx\",'odd':\"238967debc01fg45kmstqrwxuvhjyznp\"},\n",
    "             'left':{'even':\"238967debc01fg45kmstqrwxuvhjyznp\",'odd':\"14365h7k9dcfesgujnmqp0r2twvyx8zb\"},\n",
    "             'top':{'even':\"p0r21436x8zb9dcf5h7kjnmqesgutwvy\",'odd':\"bc01fg45238967deuvhjyznpkmstqrwx\"},\n",
    "             'bottom':{'even':\"14365h7k9dcfesgujnmqp0r2twvyx8zb\",'odd':\"238967debc01fg45kmstqrwxuvhjyznp\"}\n",
    "            }\n",
    "             \n",
    "BORDERS = {'right':{'even':\"bcfguvyz\",'odd':\"prxz\"},\n",
    "           'left':{'even':\"0145hjnp\",'odd':\"028b\"},\n",
    "           'top':{'even':\"prxz\",'odd':\"bcfguvyz\"},\n",
    "           'bottom':{'even':\"028b\",'odd':\"0145hjnp\"}\n",
    "          }\n",
    "\n",
    "def calc_adj_geohash(src_hash, search_direction):\n",
    "    L_src_hash = src_hash.lower()\n",
    "    last_char = L_src_hash[-1]\n",
    "    hash_type = odd_even(L_src_hash)\n",
    "    base = L_src_hash[0:len(L_src_hash)-1]\n",
    "    if  last_char in BORDERS[search_direction][hash_type]:\n",
    "        base = calc_adj_geohash(base, search_direction)\n",
    "    return base + BASE_32[NEIGHBORS[search_direction][hash_type].index(last_char)]"
   ]
  },
  {
   "cell_type": "code",
   "execution_count": 5,
   "metadata": {
    "collapsed": true
   },
   "outputs": [],
   "source": [
    "def get_adj_geohashes(src_hash):\n",
    "    directions = ['right','left','top','bottom']\n",
    "    adj_hash_dict = {direction:calc_adj_geohash(src_hash,direction) for direction in directions}\n",
    "    adj_hash_dict['top_right'] = calc_adj_geohash(adj_hash_dict['right'],'top')\n",
    "    adj_hash_dict['bottom_right'] = calc_adj_geohash(adj_hash_dict['right'],'bottom')\n",
    "    adj_hash_dict['top_left'] = calc_adj_geohash(adj_hash_dict['left'],'top')\n",
    "    adj_hash_dict['bottom_left'] = calc_adj_geohash(adj_hash_dict['left'],'bottom')\n",
    "    adj_hash_dict['middle'] = src_hash\n",
    "    return adj_hash_dict    "
   ]
  },
  {
   "cell_type": "code",
   "execution_count": 6,
   "metadata": {
    "collapsed": true
   },
   "outputs": [],
   "source": [
    "def odd_even(str_hash):\n",
    "    if len(str_hash)%2 == 0:\n",
    "        return 'even'\n",
    "    else:\n",
    "        return 'odd'"
   ]
  },
  {
   "cell_type": "code",
   "execution_count": 288,
   "metadata": {
    "collapsed": true
   },
   "outputs": [],
   "source": [
    "config = configparser.ConfigParser()\n",
    "config.read(\"config.ini\")\n",
    "API_key = config['Keys']['google_API']\n",
    "gmaps = googlemaps.Client(key=API_key)"
   ]
  },
  {
   "cell_type": "code",
   "execution_count": 289,
   "metadata": {
    "collapsed": true
   },
   "outputs": [],
   "source": [
    "def get_geohash_distance(gh_A,gh_B):   \n",
    "    GPS_A = geohash.decode(gh_A)\n",
    "    GPS_B = geohash.decode(gh_B) \n",
    "    directions_result = gmaps.directions(GPS_A,\n",
    "                                         GPS_B,\n",
    "                                         mode=\"driving\")\n",
    "    time.sleep(1)\n",
    "    return directions_result[0]['legs'][0]['distance']['value'] "
   ]
  },
  {
   "cell_type": "code",
   "execution_count": 348,
   "metadata": {
    "collapsed": false
   },
   "outputs": [],
   "source": [
    "GEOHASH_PRECISION = 3\n",
    "MAX_RANGE = 426 #Maximum Tesla Model S range in Km from https://en.wikipedia.org/wiki/Tesla_Model_S\n",
    "POP_DICT = load_pop_dict()\n",
    "def build_connections(G,src_hash):\n",
    "    print (nx.number_of_nodes(G))\n",
    "    connections = {}\n",
    "    node_hashes = ([node for node in G\n",
    "                  if node[0:GEOHASH_PRECISION] in list(get_adj_geohashes(src_hash[0:GEOHASH_PRECISION]).values())\n",
    "                  and node != src_hash])\n",
    "    close_connections = ([{'node':node_gh,\n",
    "                           'distance':get_geohash_distance(src_hash,node_gh)} for node_gh in node_hashes])\n",
    "    for connection in close_connections:\n",
    "        if connection['distance']/1000 <= MAX_RANGE:\n",
    "            edge_weight = get_edge_weight(G,src_hash,connection['node'])\n",
    "            G.add_edge(src_hash,connection['node'],{'weight':edge_weight,'distance':connection['distance'],\n",
    "                                                    'lon_lat_1':reverse_GPS(geohash.decode(src_hash)),\n",
    "                                                    'lon_lat_2':reverse_GPS(geohash.decode(connection['node']))})\n",
    "    return G"
   ]
  },
  {
   "cell_type": "code",
   "execution_count": 336,
   "metadata": {
    "collapsed": false
   },
   "outputs": [],
   "source": [
    "def get_edge_weight(G,src_hash,connection_hash):\n",
    "    try:\n",
    "        pop1 = get_closest_population(src_hash,8)\n",
    "        pop2 = get_closest_population(connection_hash,8)\n",
    "        return (pop1+pop2)/POP_DICT['total']\n",
    "    except KeyError as e:\n",
    "        print(e)\n",
    "        return 0    "
   ]
  },
  {
   "cell_type": "code",
   "execution_count": 9,
   "metadata": {
    "collapsed": true
   },
   "outputs": [],
   "source": [
    "def reverse_GPS(GPS):\n",
    "    return [GPS[1],GPS[0]]"
   ]
  },
  {
   "cell_type": "code",
   "execution_count": 321,
   "metadata": {
    "collapsed": false
   },
   "outputs": [],
   "source": [
    "def build_network():\n",
    "    G = load_network()\n",
    "    df = pd.read_csv(\"Teslarati_SC_data.csv\",dtype={'Stalls': float,'Zip':str,'Tesla':str,'Elev':str})\n",
    "    df[\"lat\"], df[\"lon\"] = zip(*df[\"GPS\"].str.split(',').tolist())\n",
    "    df[\"lat\"], df[\"lon\"] = df[\"lat\"].astype(float), df[\"lon\"].astype(float)\n",
    "    df['GPS_lon_lat'] = df.apply(lambda x: [x[\"lon\"],x[\"lat\"]], axis=1)\n",
    "    df['geohash'] = df.apply(lambda x: geohash.encode(x['lat'],x['lon']), axis=1)\n",
    "    df['SC_data'] = df.apply(lambda x: parse_Tesla_SC_data(x['Tesla']), axis=1)\n",
    "    \n",
    "    for i in df['geohash'].keys():\n",
    "        if df['geohash'][i] not in G:\n",
    "            G.add_node(df['geohash'][i],{key:df[key][i] for key in df.keys()})\n",
    "            build_connections(G,df['geohash'][i])\n",
    "    \n",
    "    network = json_graph.node_link_data(G)\n",
    "    with open(\"network.json\",\"w\") as f:\n",
    "        json.dump(network,f)\n",
    "    return G"
   ]
  },
  {
   "cell_type": "code",
   "execution_count": null,
   "metadata": {
    "collapsed": true
   },
   "outputs": [],
   "source": [
    "test_g = build_network()"
   ]
  },
  {
   "cell_type": "code",
   "execution_count": 282,
   "metadata": {
    "collapsed": false
   },
   "outputs": [],
   "source": [
    "def load_network():\n",
    "    if os.path.getsize(\"network.json\") > 0:\n",
    "        with open(\"network.json\",\"r\") as f:\n",
    "            data = json.load(f)\n",
    "            G = json_graph.node_link_graph(data)\n",
    "    else:\n",
    "        G=nx.Graph()\n",
    "    return G"
   ]
  },
  {
   "cell_type": "code",
   "execution_count": 347,
   "metadata": {
    "collapsed": true
   },
   "outputs": [],
   "source": [
    "def load_pop_dict():\n",
    "    with open('populations.json', 'r') as f:\n",
    "        p_dict = json.load(f)\n",
    "    return p_dict"
   ]
  },
  {
   "cell_type": "code",
   "execution_count": 183,
   "metadata": {
    "collapsed": false
   },
   "outputs": [],
   "source": [
    "def parse_Tesla_SC_data(URL):\n",
    "    SC_data = {}\n",
    "    r = requests.get(URL)\n",
    "    soup = BeautifulSoup(r.text,\"html.parser\")\n",
    "    attr_lists = soup.find_all('p')\n",
    "    for attr in attr_lists:\n",
    "        if attr.find('strong'):\n",
    "            #probably not ideal, but only way I could get BS to parse 'br' correctly. Better way must exist.\n",
    "            SC_data[attr.find('strong').text] = [value for value in attr.childGenerator()\n",
    "                                                 if value.name == None and value != ' ']\n",
    "    time.sleep(1)\n",
    "    return SC_data"
   ]
  },
  {
   "cell_type": "code",
   "execution_count": 145,
   "metadata": {
    "collapsed": false
   },
   "outputs": [
    {
     "data": {
      "text/plain": [
       "{'Amenities': ['Tanger Outlet mall, take the foot path around the AM/PM'],\n",
       " 'Charging': ['8 Supercharger stalls, available 24/7'],\n",
       " 'Public Charging': ['Pay NEMA 14-50 Outlet',\n",
       "  'Barstow Calico KOA',\n",
       "  '35250 Outer Highway 15 North',\n",
       "  'Yermo, CA 92398'],\n",
       " 'Restrooms': [\"Chili's\", 'Country Inn (open 24hrs)'],\n",
       " 'Wifi': ['Country Inn',\n",
       "  'Starbucks (Starbucks is located behind Country Inn, not visible from the charging stalls)']}"
      ]
     },
     "execution_count": 145,
     "metadata": {},
     "output_type": "execute_result"
    }
   ],
   "source": [
    "parse_Tesla_SC_data('http://www.teslamotors.com/findus/location/supercharger/barstowsupercharger')"
   ]
  },
  {
   "cell_type": "code",
   "execution_count": 323,
   "metadata": {
    "collapsed": true
   },
   "outputs": [],
   "source": [
    "def google_city_location(city):\n",
    "    location = gmaps.geocode(city)\n",
    "    time.sleep(.1)\n",
    "    return location"
   ]
  },
  {
   "cell_type": "code",
   "execution_count": 313,
   "metadata": {
    "collapsed": false
   },
   "outputs": [
    {
     "data": {
      "text/plain": [
       "{'lat': 44.5207419, 'lng': -80.01606679999999}"
      ]
     },
     "execution_count": 313,
     "metadata": {},
     "output_type": "execute_result"
    }
   ],
   "source": [
    "google_city_GPS('WasagaBeach_ON')[0]['geometry']['location']"
   ]
  },
  {
   "cell_type": "code",
   "execution_count": 346,
   "metadata": {
    "collapsed": true
   },
   "outputs": [],
   "source": [
    "def build_pop_dict():\n",
    "    total_pop = 0\n",
    "    pop_gps_dict = {}\n",
    "    for city,pop in POP_DICT.items():\n",
    "        try:\n",
    "            geocode_data = google_city_GPS(city)\n",
    "            city_location = geocode_data[0]['geometry']['location']\n",
    "            gh = geohash.encode(city_location['lat'],city_location['lng'])\n",
    "            pop_gps_dict[gh] = ({'city':city,\n",
    "                                        'population':pop,\n",
    "                                        'lat':city_location['lat'],\n",
    "                                        'lon':city_location['lng']})\n",
    "            total_pop = total_pop + pop\n",
    "        except IndexError as e:\n",
    "            print (geocode_data)\n",
    "            print (city + \" not found\")\n",
    "    pop_gps_dict['total'] = total_pop\n",
    "    with open(\"populations.json\",\"w\") as f:\n",
    "        json.dump(pop_gps_dict,f)    "
   ]
  },
  {
   "cell_type": "code",
   "execution_count": 335,
   "metadata": {
    "collapsed": true
   },
   "outputs": [],
   "source": [
    "def get_closest_population(src_hash,precision):\n",
    "    close_gh = ([gh for gh in list(POP_DICT.keys())\n",
    "                    if gh[0:precision]\n",
    "                    in list(get_adj_geohashes(src_hash[0:precision]).values())])\n",
    "    if close_gh:\n",
    "        if len(close_gh) == 1:\n",
    "            return POP_DICT[gh]['population']\n",
    "        else:\n",
    "            src_GPS = reverse_GPS(geohash.decode(src_hash))\n",
    "            gh_distances = [(gh,haversine(*src_GPS,reverse_GPS(*geohash.decode(gh)))) for gh in close_gh]\n",
    "            closest_gh = sorted(gh_distances,key=lambda tup: tup[1])[0]\n",
    "            return POP_DICT[closest_gh]['population']\n",
    "    else:\n",
    "        return get_closest_population(src_hash,precision-1)"
   ]
  },
  {
   "cell_type": "code",
   "execution_count": null,
   "metadata": {
    "collapsed": true
   },
   "outputs": [],
   "source": [
    "def haversine(lon1, lat1, lon2, lat2):\n",
    "    \"\"\"\n",
    "    Calculate the great circle distance between two points \n",
    "    on the earth (specified in decimal degrees)\n",
    "    \"\"\"\n",
    "    # convert decimal degrees to radians \n",
    "    lon1, lat1, lon2, lat2 = map(radians, [lon1, lat1, lon2, lat2])\n",
    "    # haversine formula \n",
    "    dlon = lon2 - lon1 \n",
    "    dlat = lat2 - lat1 \n",
    "    a = sin(dlat/2)**2 + cos(lat1) * cos(lat2) * sin(dlon/2)**2\n",
    "    c = 2 * asin(sqrt(a)) \n",
    "    km = 6367 * c\n",
    "    return km"
   ]
  },
  {
   "cell_type": "code",
   "execution_count": null,
   "metadata": {
    "collapsed": true
   },
   "outputs": [],
   "source": [
    "build_pop_dict()"
   ]
  },
  {
   "cell_type": "code",
   "execution_count": 349,
   "metadata": {
    "collapsed": false
   },
   "outputs": [
    {
     "data": {
      "text/plain": [
       "['Hueytown_AL', 'Albany_NY', 'Appleton_WI', 'Westlake_OH', 'GlenCarbon_IL']"
      ]
     },
     "execution_count": 349,
     "metadata": {},
     "output_type": "execute_result"
    }
   ],
   "source": [
    "list(POP_DICT.keys())[0:5]"
   ]
  }
 ],
 "metadata": {
  "kernelspec": {
   "display_name": "Python 3",
   "language": "python",
   "name": "python3"
  },
  "language_info": {
   "codemirror_mode": {
    "name": "ipython",
    "version": 3
   },
   "file_extension": ".py",
   "mimetype": "text/x-python",
   "name": "python",
   "nbconvert_exporter": "python",
   "pygments_lexer": "ipython3",
   "version": "3.5.0"
  }
 },
 "nbformat": 4,
 "nbformat_minor": 0
}
